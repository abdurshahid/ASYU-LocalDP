{
  "nbformat": 4,
  "nbformat_minor": 0,
  "metadata": {
    "colab": {
      "name": "digit_dl_ml.ipynb",
      "provenance": [],
      "collapsed_sections": []
    },
    "kernelspec": {
      "display_name": "Python 3",
      "language": "python",
      "name": "python3"
    },
    "language_info": {
      "codemirror_mode": {
        "name": "ipython",
        "version": 3
      },
      "file_extension": ".py",
      "mimetype": "text/x-python",
      "name": "python",
      "nbconvert_exporter": "python",
      "pygments_lexer": "ipython3",
      "version": "3.8.5"
    }
  },
  "cells": [
    {
      "cell_type": "markdown",
      "source": [
        "Source code for "
      ],
      "metadata": {
        "id": "B-7-zCmpLsm5"
      }
    },
    {
      "cell_type": "code",
      "metadata": {
        "id": "Hf5goSlI3YRz"
      },
      "source": [
        "import tensorflow as tf\n",
        "import matplotlib.pyplot as plt\n",
        "\n",
        "from keras.models import Sequential\n",
        "from keras.layers import Dense\n",
        "from keras.layers import Dropout\n",
        "from keras.layers import Flatten\n",
        "from keras.layers.convolutional import Conv2D\n",
        "from keras.layers.convolutional import MaxPooling2D\n",
        "from keras.utils import np_utils\n",
        "\n",
        "import numpy as np"
      ],
      "execution_count": null,
      "outputs": []
    },
    {
      "cell_type": "code",
      "metadata": {
        "id": "KVRj-c0X3eMv",
        "colab": {
          "base_uri": "https://localhost:8080/"
        },
        "outputId": "a0b19386-fa27-4451-a6fa-73927df92f46"
      },
      "source": [
        "mnist = tf.keras.datasets.mnist\n",
        "(x_train, y_train), (x_test, y_test) = mnist.load_data()"
      ],
      "execution_count": null,
      "outputs": [
        {
          "output_type": "stream",
          "text": [
            "Downloading data from https://storage.googleapis.com/tensorflow/tf-keras-datasets/mnist.npz\n",
            "11493376/11490434 [==============================] - 0s 0us/step\n"
          ],
          "name": "stdout"
        }
      ]
    },
    {
      "cell_type": "markdown",
      "metadata": {
        "id": "OIl-NBQiZKfx"
      },
      "source": [
        "MLPClassifier: Multi-Layer Perceptron"
      ]
    },
    {
      "cell_type": "code",
      "metadata": {
        "id": "timKBJoW4CMN"
      },
      "source": [
        "x_train= tf.keras.utils.normalize(x_train,axis=1)\n",
        "x_test= tf.keras.utils.normalize(x_test,axis=1)"
      ],
      "execution_count": null,
      "outputs": []
    },
    {
      "cell_type": "code",
      "metadata": {
        "id": "bNqTbMWR4FWl"
      },
      "source": [
        "mlp_model=tf.keras.models.Sequential()\n",
        "mlp_model.add(tf.keras.layers.Flatten()) # takes 28 x 28 images and makes it 1 x 784\n",
        "mlp_model.add(tf.keras.layers.Dense(128,activation=tf.nn.relu)) # simple fully connected layer\n",
        "mlp_model.add(tf.keras.layers.Dense(128,activation=tf.nn.relu))\n",
        "mlp_model.add(tf.keras.layers.Dense(10,activation=tf.nn.softmax))"
      ],
      "execution_count": null,
      "outputs": []
    },
    {
      "cell_type": "code",
      "metadata": {
        "id": "gyRgMUBG4G9u"
      },
      "source": [
        "mlp_model.compile(optimizer='adam',\n",
        "             loss='sparse_categorical_crossentropy', #minimizing loss by calculating error\n",
        "             metrics=['accuracy'])"
      ],
      "execution_count": null,
      "outputs": []
    },
    {
      "cell_type": "code",
      "metadata": {
        "colab": {
          "base_uri": "https://localhost:8080/"
        },
        "id": "1A96mZ383ziU",
        "outputId": "11f71af4-5fb8-413b-8105-3c75408e71b7"
      },
      "source": [
        "mlp_model.fit(x_train,y_train,epochs=15)"
      ],
      "execution_count": null,
      "outputs": [
        {
          "output_type": "stream",
          "text": [
            "1875/1875 [==============================] - 4s 2ms/step - loss: 0.0079 - accuracy: 0.9973\n",
            "Epoch 2/15\n",
            "1875/1875 [==============================] - 4s 2ms/step - loss: 0.0084 - accuracy: 0.9972\n",
            "Epoch 3/15\n",
            "1875/1875 [==============================] - 4s 2ms/step - loss: 0.0068 - accuracy: 0.9977\n",
            "Epoch 4/15\n",
            "1875/1875 [==============================] - 4s 2ms/step - loss: 0.0084 - accuracy: 0.9973\n",
            "Epoch 5/15\n",
            "1875/1875 [==============================] - 4s 2ms/step - loss: 0.0067 - accuracy: 0.9977\n",
            "Epoch 6/15\n",
            "1875/1875 [==============================] - 4s 2ms/step - loss: 0.0052 - accuracy: 0.9983\n",
            "Epoch 7/15\n",
            "1875/1875 [==============================] - 4s 2ms/step - loss: 0.0077 - accuracy: 0.9977\n",
            "Epoch 8/15\n",
            "1875/1875 [==============================] - 4s 2ms/step - loss: 0.0049 - accuracy: 0.9983\n",
            "Epoch 9/15\n",
            "1875/1875 [==============================] - 4s 2ms/step - loss: 0.0058 - accuracy: 0.9981\n",
            "Epoch 10/15\n",
            "1875/1875 [==============================] - 4s 2ms/step - loss: 0.0056 - accuracy: 0.9981\n",
            "Epoch 11/15\n",
            "1875/1875 [==============================] - 4s 2ms/step - loss: 0.0053 - accuracy: 0.9982\n",
            "Epoch 12/15\n",
            "1875/1875 [==============================] - 4s 2ms/step - loss: 0.0080 - accuracy: 0.9974\n",
            "Epoch 13/15\n",
            "1875/1875 [==============================] - 4s 2ms/step - loss: 0.0054 - accuracy: 0.9982\n",
            "Epoch 14/15\n",
            "1875/1875 [==============================] - 4s 2ms/step - loss: 0.0030 - accuracy: 0.9990\n",
            "Epoch 15/15\n",
            "1875/1875 [==============================] - 4s 2ms/step - loss: 0.0064 - accuracy: 0.9979\n"
          ],
          "name": "stdout"
        },
        {
          "output_type": "execute_result",
          "data": {
            "text/plain": [
              "<tensorflow.python.keras.callbacks.History at 0x7f5a1e92c090>"
            ]
          },
          "metadata": {
            "tags": []
          },
          "execution_count": 13
        }
      ]
    },
    {
      "cell_type": "code",
      "metadata": {
        "colab": {
          "base_uri": "https://localhost:8080/"
        },
        "id": "wLIIa3vG4qIG",
        "outputId": "d5425a86-fbea-41a4-dee2-18ce867b3fc9"
      },
      "source": [
        "val_loss, mlp_model_accuracy = mlp_model.evaluate(x_test,y_test)\n"
      ],
      "execution_count": null,
      "outputs": [
        {
          "output_type": "stream",
          "text": [
            "313/313 [==============================] - 1s 1ms/step - loss: 0.1585 - accuracy: 0.9758\n"
          ],
          "name": "stdout"
        }
      ]
    },
    {
      "cell_type": "code",
      "metadata": {
        "colab": {
          "base_uri": "https://localhost:8080/"
        },
        "id": "gf_jTJBe41dl",
        "outputId": "358a4e33-0a0e-45d4-ac48-a0ffe69ac4ab"
      },
      "source": [
        "mlp_model.save('digit_predictor_model_mlp.model')\n"
      ],
      "execution_count": null,
      "outputs": [
        {
          "output_type": "stream",
          "text": [
            "INFO:tensorflow:Assets written to: digit_predictor_model_mlp.model/assets\n"
          ],
          "name": "stdout"
        }
      ]
    },
    {
      "cell_type": "code",
      "metadata": {
        "id": "o_LNcAVc3ziW"
      },
      "source": [
        "mlp_model = tf.keras.models.load_model('digit_predictor_model_mlp.model') # multilayer percetrons\n"
      ],
      "execution_count": null,
      "outputs": []
    },
    {
      "cell_type": "code",
      "metadata": {
        "id": "4cV0Fx5C3ziW",
        "colab": {
          "base_uri": "https://localhost:8080/"
        },
        "outputId": "0a73d2a4-c3dd-4c97-b188-953cd3cd5443"
      },
      "source": [
        "x_test[0,:].shape"
      ],
      "execution_count": null,
      "outputs": [
        {
          "output_type": "execute_result",
          "data": {
            "text/plain": [
              "(28, 28)"
            ]
          },
          "metadata": {
            "tags": []
          },
          "execution_count": 17
        }
      ]
    },
    {
      "cell_type": "code",
      "metadata": {
        "id": "SOWAdZ3t3ziW",
        "colab": {
          "base_uri": "https://localhost:8080/"
        },
        "outputId": "fe2ee845-2948-4e55-8e63-a0795b83d15a"
      },
      "source": [
        "prediction = mlp_model.predict(np.expand_dims(x_test[1],0))\n",
        "np.argmax(prediction)"
      ],
      "execution_count": null,
      "outputs": [
        {
          "output_type": "execute_result",
          "data": {
            "text/plain": [
              "2"
            ]
          },
          "metadata": {
            "tags": []
          },
          "execution_count": 18
        }
      ]
    },
    {
      "cell_type": "code",
      "metadata": {
        "id": "wfXfmEhKzaa_"
      },
      "source": [
        "from tensorflow import keras\n",
        "import tensorflow as tf\n",
        "import pandas as pd\n",
        "import numpy as np\n",
        "import matplotlib.pyplot as plt\n",
        "import math\n",
        "\n",
        "def plot_metric(history, metric):\n",
        "    train_metrics = history.history[metric]\n",
        "    val_metrics = history.history['val_'+metric]\n",
        "    epochs = range(1, len(train_metrics) + 1)\n",
        "    #plt.plot(epochs, train_metrics)\n",
        "    #plt.plot(epochs, val_metrics)\n",
        "    plt.figure(figsize=(4,4))\n",
        "    plt.plot(epochs,train_metrics, '-', label = \"Training Accuracy\",linewidth=2)\n",
        "    plt.plot(epochs,val_metrics,'--', label = \"Validation Accuracy\",linewidth=2)\n",
        "\n",
        "    #plt.title('Training and validation '+ metric)\n",
        "    plt.xlabel(\"Epochs\", fontsize = 15)\n",
        "    plt.ylabel(\"Accuracy\", fontsize = 15)\n",
        "    plt.legend([\"trainning \"+metric, 'validation '+metric])\n",
        "\n",
        "    plt.xticks( fontsize = 15)\n",
        "    plt.yticks (fontsize = 15)\n",
        "\n",
        "    plt.legend(fontsize = 15)\n",
        "    plt.savefig('train-val.png', bbox_inches='tight', dpi = 300)\n",
        "    plt.show()"
      ],
      "execution_count": null,
      "outputs": []
    },
    {
      "cell_type": "markdown",
      "metadata": {
        "id": "UYjLhzwFdy9_"
      },
      "source": [
        "Convolutional Neural Network"
      ]
    },
    {
      "cell_type": "code",
      "metadata": {
        "id": "qGl7gzT_3ziY",
        "colab": {
          "base_uri": "https://localhost:8080/",
          "height": 442
        },
        "outputId": "2cb26998-b3da-4249-e28c-9df4f46b2242"
      },
      "source": [
        "# Simple CNN for the MNIST Dataset\n",
        "from keras.datasets import mnist\n",
        "from keras.models import Sequential\n",
        "from keras.layers import Dense\n",
        "from keras.layers import Dropout\n",
        "from keras.layers import Flatten\n",
        "from keras.layers.convolutional import Conv2D\n",
        "from keras.layers.convolutional import MaxPooling2D\n",
        "from keras.utils import np_utils\n",
        "import tensorflow as tf\n",
        "# load data\n",
        "(X_train, y_train), (X_test, y_test) = mnist.load_data()\n",
        "# reshape to be [samples][width][height][channels]\n",
        "X_train = X_train.reshape((X_train.shape[0], 28, 28, 1)).astype('float32')\n",
        "X_test = X_test.reshape((X_test.shape[0], 28, 28, 1)).astype('float32')\n",
        "# normalize inputs from 0-255 to 0-1\n",
        "X_train = X_train / 255\n",
        "X_test = X_test / 255\n",
        "# one hot encode outputs\n",
        "y_train = np_utils.to_categorical(y_train)\n",
        "y_test = np_utils.to_categorical(y_test)\n",
        "num_classes = y_test.shape[1]\n",
        "# define a simple CNN model\n",
        "\n",
        "cnn_model = Sequential()\n",
        "cnn_model.add(Conv2D(32, (5, 5), input_shape=(28, 28, 1), activation='relu'))\n",
        "cnn_model.add(MaxPooling2D())\n",
        "cnn_model.add(Dropout(0.2))\n",
        "cnn_model.add(Flatten())\n",
        "cnn_model.add(Dense(128, activation='relu'))\n",
        "cnn_model.add(Dense(num_classes, activation='softmax'))\n",
        "# Compile model\n",
        "\n",
        "sgd = tf.keras.optimizers.SGD(learning_rate=0.01)\n",
        "cnn_model.compile(loss='categorical_crossentropy', optimizer=sgd, metrics=['accuracy'])\n",
        "\n",
        "# Fit the model\n",
        "history_constant  = cnn_model.fit(X_train, y_train, validation_data=(X_test, y_test), epochs=10) #, batch_size=200\n",
        "# Final evaluation of the model"
      ],
      "execution_count": null,
      "outputs": [
        {
          "output_type": "stream",
          "text": [
            "Downloading data from https://storage.googleapis.com/tensorflow/tf-keras-datasets/mnist.npz\n",
            "11493376/11490434 [==============================] - 0s 0us/step\n",
            "11501568/11490434 [==============================] - 0s 0us/step\n",
            "Epoch 1/10\n",
            " 150/1875 [=>............................] - ETA: 34s - loss: 2.0215 - accuracy: 0.3758"
          ],
          "name": "stdout"
        },
        {
          "output_type": "error",
          "ename": "KeyboardInterrupt",
          "evalue": "ignored",
          "traceback": [
            "\u001b[0;31m---------------------------------------------------------------------------\u001b[0m",
            "\u001b[0;31mKeyboardInterrupt\u001b[0m                         Traceback (most recent call last)",
            "\u001b[0;32m<ipython-input-1-015ab7590c41>\u001b[0m in \u001b[0;36m<module>\u001b[0;34m()\u001b[0m\n\u001b[1;32m     36\u001b[0m \u001b[0;34m\u001b[0m\u001b[0m\n\u001b[1;32m     37\u001b[0m \u001b[0;31m# Fit the model\u001b[0m\u001b[0;34m\u001b[0m\u001b[0;34m\u001b[0m\u001b[0;34m\u001b[0m\u001b[0m\n\u001b[0;32m---> 38\u001b[0;31m \u001b[0mhistory_constant\u001b[0m  \u001b[0;34m=\u001b[0m \u001b[0mcnn_model\u001b[0m\u001b[0;34m.\u001b[0m\u001b[0mfit\u001b[0m\u001b[0;34m(\u001b[0m\u001b[0mX_train\u001b[0m\u001b[0;34m,\u001b[0m \u001b[0my_train\u001b[0m\u001b[0;34m,\u001b[0m \u001b[0mvalidation_data\u001b[0m\u001b[0;34m=\u001b[0m\u001b[0;34m(\u001b[0m\u001b[0mX_test\u001b[0m\u001b[0;34m,\u001b[0m \u001b[0my_test\u001b[0m\u001b[0;34m)\u001b[0m\u001b[0;34m,\u001b[0m \u001b[0mepochs\u001b[0m\u001b[0;34m=\u001b[0m\u001b[0;36m10\u001b[0m\u001b[0;34m)\u001b[0m \u001b[0;31m#, batch_size=200\u001b[0m\u001b[0;34m\u001b[0m\u001b[0;34m\u001b[0m\u001b[0m\n\u001b[0m\u001b[1;32m     39\u001b[0m \u001b[0;31m# Final evaluation of the model\u001b[0m\u001b[0;34m\u001b[0m\u001b[0;34m\u001b[0m\u001b[0;34m\u001b[0m\u001b[0m\n",
            "\u001b[0;32m/usr/local/lib/python3.7/dist-packages/keras/engine/training.py\u001b[0m in \u001b[0;36mfit\u001b[0;34m(self, x, y, batch_size, epochs, verbose, callbacks, validation_split, validation_data, shuffle, class_weight, sample_weight, initial_epoch, steps_per_epoch, validation_steps, validation_batch_size, validation_freq, max_queue_size, workers, use_multiprocessing)\u001b[0m\n\u001b[1;32m   1156\u001b[0m                 _r=1):\n\u001b[1;32m   1157\u001b[0m               \u001b[0mcallbacks\u001b[0m\u001b[0;34m.\u001b[0m\u001b[0mon_train_batch_begin\u001b[0m\u001b[0;34m(\u001b[0m\u001b[0mstep\u001b[0m\u001b[0;34m)\u001b[0m\u001b[0;34m\u001b[0m\u001b[0;34m\u001b[0m\u001b[0m\n\u001b[0;32m-> 1158\u001b[0;31m               \u001b[0mtmp_logs\u001b[0m \u001b[0;34m=\u001b[0m \u001b[0mself\u001b[0m\u001b[0;34m.\u001b[0m\u001b[0mtrain_function\u001b[0m\u001b[0;34m(\u001b[0m\u001b[0miterator\u001b[0m\u001b[0;34m)\u001b[0m\u001b[0;34m\u001b[0m\u001b[0;34m\u001b[0m\u001b[0m\n\u001b[0m\u001b[1;32m   1159\u001b[0m               \u001b[0;32mif\u001b[0m \u001b[0mdata_handler\u001b[0m\u001b[0;34m.\u001b[0m\u001b[0mshould_sync\u001b[0m\u001b[0;34m:\u001b[0m\u001b[0;34m\u001b[0m\u001b[0;34m\u001b[0m\u001b[0m\n\u001b[1;32m   1160\u001b[0m                 \u001b[0mcontext\u001b[0m\u001b[0;34m.\u001b[0m\u001b[0masync_wait\u001b[0m\u001b[0;34m(\u001b[0m\u001b[0;34m)\u001b[0m\u001b[0;34m\u001b[0m\u001b[0;34m\u001b[0m\u001b[0m\n",
            "\u001b[0;32m/usr/local/lib/python3.7/dist-packages/tensorflow/python/eager/def_function.py\u001b[0m in \u001b[0;36m__call__\u001b[0;34m(self, *args, **kwds)\u001b[0m\n\u001b[1;32m    887\u001b[0m \u001b[0;34m\u001b[0m\u001b[0m\n\u001b[1;32m    888\u001b[0m       \u001b[0;32mwith\u001b[0m \u001b[0mOptionalXlaContext\u001b[0m\u001b[0;34m(\u001b[0m\u001b[0mself\u001b[0m\u001b[0;34m.\u001b[0m\u001b[0m_jit_compile\u001b[0m\u001b[0;34m)\u001b[0m\u001b[0;34m:\u001b[0m\u001b[0;34m\u001b[0m\u001b[0;34m\u001b[0m\u001b[0m\n\u001b[0;32m--> 889\u001b[0;31m         \u001b[0mresult\u001b[0m \u001b[0;34m=\u001b[0m \u001b[0mself\u001b[0m\u001b[0;34m.\u001b[0m\u001b[0m_call\u001b[0m\u001b[0;34m(\u001b[0m\u001b[0;34m*\u001b[0m\u001b[0margs\u001b[0m\u001b[0;34m,\u001b[0m \u001b[0;34m**\u001b[0m\u001b[0mkwds\u001b[0m\u001b[0;34m)\u001b[0m\u001b[0;34m\u001b[0m\u001b[0;34m\u001b[0m\u001b[0m\n\u001b[0m\u001b[1;32m    890\u001b[0m \u001b[0;34m\u001b[0m\u001b[0m\n\u001b[1;32m    891\u001b[0m       \u001b[0mnew_tracing_count\u001b[0m \u001b[0;34m=\u001b[0m \u001b[0mself\u001b[0m\u001b[0;34m.\u001b[0m\u001b[0mexperimental_get_tracing_count\u001b[0m\u001b[0;34m(\u001b[0m\u001b[0;34m)\u001b[0m\u001b[0;34m\u001b[0m\u001b[0;34m\u001b[0m\u001b[0m\n",
            "\u001b[0;32m/usr/local/lib/python3.7/dist-packages/tensorflow/python/eager/def_function.py\u001b[0m in \u001b[0;36m_call\u001b[0;34m(self, *args, **kwds)\u001b[0m\n\u001b[1;32m    915\u001b[0m       \u001b[0;31m# In this case we have created variables on the first call, so we run the\u001b[0m\u001b[0;34m\u001b[0m\u001b[0;34m\u001b[0m\u001b[0;34m\u001b[0m\u001b[0m\n\u001b[1;32m    916\u001b[0m       \u001b[0;31m# defunned version which is guaranteed to never create variables.\u001b[0m\u001b[0;34m\u001b[0m\u001b[0;34m\u001b[0m\u001b[0;34m\u001b[0m\u001b[0m\n\u001b[0;32m--> 917\u001b[0;31m       \u001b[0;32mreturn\u001b[0m \u001b[0mself\u001b[0m\u001b[0;34m.\u001b[0m\u001b[0m_stateless_fn\u001b[0m\u001b[0;34m(\u001b[0m\u001b[0;34m*\u001b[0m\u001b[0margs\u001b[0m\u001b[0;34m,\u001b[0m \u001b[0;34m**\u001b[0m\u001b[0mkwds\u001b[0m\u001b[0;34m)\u001b[0m  \u001b[0;31m# pylint: disable=not-callable\u001b[0m\u001b[0;34m\u001b[0m\u001b[0;34m\u001b[0m\u001b[0m\n\u001b[0m\u001b[1;32m    918\u001b[0m     \u001b[0;32melif\u001b[0m \u001b[0mself\u001b[0m\u001b[0;34m.\u001b[0m\u001b[0m_stateful_fn\u001b[0m \u001b[0;32mis\u001b[0m \u001b[0;32mnot\u001b[0m \u001b[0;32mNone\u001b[0m\u001b[0;34m:\u001b[0m\u001b[0;34m\u001b[0m\u001b[0;34m\u001b[0m\u001b[0m\n\u001b[1;32m    919\u001b[0m       \u001b[0;31m# Release the lock early so that multiple threads can perform the call\u001b[0m\u001b[0;34m\u001b[0m\u001b[0;34m\u001b[0m\u001b[0;34m\u001b[0m\u001b[0m\n",
            "\u001b[0;32m/usr/local/lib/python3.7/dist-packages/tensorflow/python/eager/function.py\u001b[0m in \u001b[0;36m__call__\u001b[0;34m(self, *args, **kwargs)\u001b[0m\n\u001b[1;32m   3022\u001b[0m        filtered_flat_args) = self._maybe_define_function(args, kwargs)\n\u001b[1;32m   3023\u001b[0m     return graph_function._call_flat(\n\u001b[0;32m-> 3024\u001b[0;31m         filtered_flat_args, captured_inputs=graph_function.captured_inputs)  # pylint: disable=protected-access\n\u001b[0m\u001b[1;32m   3025\u001b[0m \u001b[0;34m\u001b[0m\u001b[0m\n\u001b[1;32m   3026\u001b[0m   \u001b[0;34m@\u001b[0m\u001b[0mproperty\u001b[0m\u001b[0;34m\u001b[0m\u001b[0;34m\u001b[0m\u001b[0m\n",
            "\u001b[0;32m/usr/local/lib/python3.7/dist-packages/tensorflow/python/eager/function.py\u001b[0m in \u001b[0;36m_call_flat\u001b[0;34m(self, args, captured_inputs, cancellation_manager)\u001b[0m\n\u001b[1;32m   1959\u001b[0m       \u001b[0;31m# No tape is watching; skip to running the function.\u001b[0m\u001b[0;34m\u001b[0m\u001b[0;34m\u001b[0m\u001b[0;34m\u001b[0m\u001b[0m\n\u001b[1;32m   1960\u001b[0m       return self._build_call_outputs(self._inference_function.call(\n\u001b[0;32m-> 1961\u001b[0;31m           ctx, args, cancellation_manager=cancellation_manager))\n\u001b[0m\u001b[1;32m   1962\u001b[0m     forward_backward = self._select_forward_and_backward_functions(\n\u001b[1;32m   1963\u001b[0m         \u001b[0margs\u001b[0m\u001b[0;34m,\u001b[0m\u001b[0;34m\u001b[0m\u001b[0;34m\u001b[0m\u001b[0m\n",
            "\u001b[0;32m/usr/local/lib/python3.7/dist-packages/tensorflow/python/eager/function.py\u001b[0m in \u001b[0;36mcall\u001b[0;34m(self, ctx, args, cancellation_manager)\u001b[0m\n\u001b[1;32m    594\u001b[0m               \u001b[0minputs\u001b[0m\u001b[0;34m=\u001b[0m\u001b[0margs\u001b[0m\u001b[0;34m,\u001b[0m\u001b[0;34m\u001b[0m\u001b[0;34m\u001b[0m\u001b[0m\n\u001b[1;32m    595\u001b[0m               \u001b[0mattrs\u001b[0m\u001b[0;34m=\u001b[0m\u001b[0mattrs\u001b[0m\u001b[0;34m,\u001b[0m\u001b[0;34m\u001b[0m\u001b[0;34m\u001b[0m\u001b[0m\n\u001b[0;32m--> 596\u001b[0;31m               ctx=ctx)\n\u001b[0m\u001b[1;32m    597\u001b[0m         \u001b[0;32melse\u001b[0m\u001b[0;34m:\u001b[0m\u001b[0;34m\u001b[0m\u001b[0;34m\u001b[0m\u001b[0m\n\u001b[1;32m    598\u001b[0m           outputs = execute.execute_with_cancellation(\n",
            "\u001b[0;32m/usr/local/lib/python3.7/dist-packages/tensorflow/python/eager/execute.py\u001b[0m in \u001b[0;36mquick_execute\u001b[0;34m(op_name, num_outputs, inputs, attrs, ctx, name)\u001b[0m\n\u001b[1;32m     58\u001b[0m     \u001b[0mctx\u001b[0m\u001b[0;34m.\u001b[0m\u001b[0mensure_initialized\u001b[0m\u001b[0;34m(\u001b[0m\u001b[0;34m)\u001b[0m\u001b[0;34m\u001b[0m\u001b[0;34m\u001b[0m\u001b[0m\n\u001b[1;32m     59\u001b[0m     tensors = pywrap_tfe.TFE_Py_Execute(ctx._handle, device_name, op_name,\n\u001b[0;32m---> 60\u001b[0;31m                                         inputs, attrs, num_outputs)\n\u001b[0m\u001b[1;32m     61\u001b[0m   \u001b[0;32mexcept\u001b[0m \u001b[0mcore\u001b[0m\u001b[0;34m.\u001b[0m\u001b[0m_NotOkStatusException\u001b[0m \u001b[0;32mas\u001b[0m \u001b[0me\u001b[0m\u001b[0;34m:\u001b[0m\u001b[0;34m\u001b[0m\u001b[0;34m\u001b[0m\u001b[0m\n\u001b[1;32m     62\u001b[0m     \u001b[0;32mif\u001b[0m \u001b[0mname\u001b[0m \u001b[0;32mis\u001b[0m \u001b[0;32mnot\u001b[0m \u001b[0;32mNone\u001b[0m\u001b[0;34m:\u001b[0m\u001b[0;34m\u001b[0m\u001b[0;34m\u001b[0m\u001b[0m\n",
            "\u001b[0;31mKeyboardInterrupt\u001b[0m: "
          ]
        }
      ]
    },
    {
      "cell_type": "code",
      "metadata": {
        "id": "kxRl8Wv4_CV7",
        "colab": {
          "base_uri": "https://localhost:8080/"
        },
        "outputId": "5daf6940-6244-4275-cfdf-c14582276689"
      },
      "source": [
        "cnn_model.summary()"
      ],
      "execution_count": null,
      "outputs": [
        {
          "output_type": "stream",
          "text": [
            "Model: \"sequential_1\"\n",
            "_________________________________________________________________\n",
            "Layer (type)                 Output Shape              Param #   \n",
            "=================================================================\n",
            "conv2d_1 (Conv2D)            (None, 24, 24, 32)        832       \n",
            "_________________________________________________________________\n",
            "max_pooling2d_1 (MaxPooling2 (None, 12, 12, 32)        0         \n",
            "_________________________________________________________________\n",
            "dropout_1 (Dropout)          (None, 12, 12, 32)        0         \n",
            "_________________________________________________________________\n",
            "flatten_1 (Flatten)          (None, 4608)              0         \n",
            "_________________________________________________________________\n",
            "dense_2 (Dense)              (None, 128)               589952    \n",
            "_________________________________________________________________\n",
            "dense_3 (Dense)              (None, 10)                1290      \n",
            "=================================================================\n",
            "Total params: 592,074\n",
            "Trainable params: 592,074\n",
            "Non-trainable params: 0\n",
            "_________________________________________________________________\n"
          ],
          "name": "stdout"
        }
      ]
    },
    {
      "cell_type": "code",
      "metadata": {
        "colab": {
          "base_uri": "https://localhost:8080/",
          "height": 292
        },
        "id": "TGCi377r8L7G",
        "outputId": "a5e89137-1e4d-4249-edd6-9c35450bfb4c"
      },
      "source": [
        "plot_metric(history_constant, 'accuracy')\n"
      ],
      "execution_count": null,
      "outputs": [
        {
          "output_type": "display_data",
          "data": {
            "image/png": "[encoded data removed]",
            "text/plain": [
              "<Figure size 288x288 with 1 Axes>"
            ]
          },
          "metadata": {
            "tags": [],
            "needs_background": "light"
          }
        }
      ]
    },
    {
      "cell_type": "code",
      "metadata": {
        "colab": {
          "base_uri": "https://localhost:8080/"
        },
        "id": "q57theM88bms",
        "outputId": "a847a144-27ab-4e6d-a7ae-8c2ebcd2ce44"
      },
      "source": [
        "history_constant"
      ],
      "execution_count": null,
      "outputs": [
        {
          "output_type": "execute_result",
          "data": {
            "text/plain": [
              "<tensorflow.python.keras.callbacks.History at 0x7f4a0c225990>"
            ]
          },
          "metadata": {
            "tags": []
          },
          "execution_count": 11
        }
      ]
    },
    {
      "cell_type": "code",
      "metadata": {
        "colab": {
          "base_uri": "https://localhost:8080/"
        },
        "id": "fXTpctmfKEED",
        "outputId": "68b0b3f7-19f5-42e3-e476-4c5f15fb1da7"
      },
      "source": [
        "X_test.shape"
      ],
      "execution_count": null,
      "outputs": [
        {
          "output_type": "execute_result",
          "data": {
            "text/plain": [
              "(10000, 28, 28, 1)"
            ]
          },
          "metadata": {
            "tags": []
          },
          "execution_count": 20
        }
      ]
    },
    {
      "cell_type": "code",
      "metadata": {
        "colab": {
          "base_uri": "https://localhost:8080/"
        },
        "id": "7l6RefgV3ziY",
        "outputId": "ce250063-5c36-46e3-9e9b-4a6caccc9df9"
      },
      "source": [
        "val_loss, cnn_model_accuracy = cnn_model.evaluate(X_test,y_test)"
      ],
      "execution_count": null,
      "outputs": [
        {
          "output_type": "stream",
          "text": [
            "313/313 [==============================] - 2s 6ms/step - loss: 0.0328 - accuracy: 0.9887\n"
          ],
          "name": "stdout"
        }
      ]
    },
    {
      "cell_type": "code",
      "metadata": {
        "colab": {
          "base_uri": "https://localhost:8080/"
        },
        "id": "Ey-Gklbu3ziY",
        "outputId": "180720ba-257b-4834-fd04-707b45b4531c"
      },
      "source": [
        "cnn_model.save('digit_predictor_model_cnn.model') # convolutional neural network"
      ],
      "execution_count": null,
      "outputs": [
        {
          "output_type": "stream",
          "text": [
            "INFO:tensorflow:Assets written to: digit_predictor_model_cnn.model/assets\n"
          ],
          "name": "stdout"
        }
      ]
    },
    {
      "cell_type": "code",
      "metadata": {
        "id": "JpYu4IRa3ziY"
      },
      "source": [
        "cnn_model = tf.keras.models.load_model('digit_predictor_model_cnn.model') # convolutional neural network"
      ],
      "execution_count": null,
      "outputs": []
    },
    {
      "cell_type": "markdown",
      "metadata": {
        "id": "YmY_LcAifh5m"
      },
      "source": [
        "# Machine Learning: RandomForest, DecistionTree, SVM, Naive Bayes"
      ]
    },
    {
      "cell_type": "code",
      "metadata": {
        "id": "PoAt2Vka3ziZ"
      },
      "source": [
        "\n",
        " # https://github.com/pramodini18/Digit-recognition-using-SVM/blob/master/Handwritten%20digit%20recognition%20using%20SVM.ipynb\n",
        "\n",
        "import pandas as pd\n",
        "import numpy as np\n",
        "from keras.datasets import mnist\n",
        "\n",
        "import matplotlib.pyplot as plt\n",
        "import seaborn as sns\n",
        "sns.set()\n",
        "\n",
        "from sklearn.preprocessing import scale\n",
        "from sklearn.model_selection import train_test_split\n",
        "\n",
        "from sklearn import metrics\n",
        "from sklearn.svm import SVC\n",
        "from sklearn.ensemble import RandomForestClassifier\n",
        "from sklearn.tree import DecisionTreeClassifier\n",
        "from sklearn.naive_bayes import GaussianNB\n",
        "\n",
        "\n",
        "from sklearn.model_selection import KFold\n",
        "from sklearn.model_selection import cross_val_score\n",
        "from sklearn.model_selection import GridSearchCV\n",
        "from sklearn.metrics import classification_report, confusion_matrix\n",
        "\n",
        "\n",
        "\n",
        "# load data\n",
        "(X_train, y_train), (X_test, y_test) = mnist.load_data()\n",
        "X_train = X_train.reshape(X_train.shape[0], X_train.shape[1]*X_train.shape[1])\n",
        "X_test = X_test.reshape(X_test.shape[0], X_test.shape[1]*X_test.shape[1])"
      ],
      "execution_count": null,
      "outputs": []
    },
    {
      "cell_type": "markdown",
      "metadata": {
        "id": "sX_37MAnfmYk"
      },
      "source": [
        "Randomforest"
      ]
    },
    {
      "cell_type": "code",
      "metadata": {
        "id": "9cjlKIKg6zsl"
      },
      "source": [
        "randomforest_model = RandomForestClassifier(n_estimators=100)\n",
        "randomforest_model.fit(X_train, y_train)\n",
        "\n",
        "y_pred = randomforest_model.predict(X_test)\n",
        "\n",
        "randomforest_model_accuracy = metrics.accuracy_score(y_true=y_test, y_pred=y_pred)\n",
        "\n",
        "# accuracy\n",
        "#print(\"accuracy:\", metrics.accuracy_score(y_true=y_test, y_pred=y_pred), \"\\n\")\n",
        "\n",
        "# cm\n",
        "#print(metrics.confusion_matrix(y_true=y_test, y_pred=y_pred))"
      ],
      "execution_count": null,
      "outputs": []
    },
    {
      "cell_type": "markdown",
      "metadata": {
        "id": "UAZvEqCsgNz9"
      },
      "source": [
        "Support Vector Machine: kernel = 'poly', C = 1"
      ]
    },
    {
      "cell_type": "code",
      "metadata": {
        "id": "lFe_eixQ3zia"
      },
      "source": [
        "# non-linear model\n",
        "# using poly kernel, C=1, default value of gamma\n",
        "\n",
        "# model\n",
        "svc_poly_model = SVC(kernel='poly')\n",
        "\n",
        "# fit\n",
        "svc_poly_model.fit(X_train, y_train)\n",
        "\n",
        "# predict\n",
        "y_pred = svc_poly_model.predict(X_test)\n",
        "\n",
        "svc_poly_model_accuracy = metrics.accuracy_score(y_true=y_test, y_pred=y_pred)\n",
        "\n",
        "# confusion matrix and accuracy, precision, recall\n",
        "\n",
        "# accuracy\n",
        "#print(\"accuracy:\", metrics.accuracy_score(y_true=y_test, y_pred=y_pred), \"\\n\")\n",
        "\n",
        "# cm\n",
        "#print(metrics.confusion_matrix(y_true=y_test, y_pred=y_pred))"
      ],
      "execution_count": null,
      "outputs": []
    },
    {
      "cell_type": "markdown",
      "metadata": {
        "id": "4HLMZ4BUhbDF"
      },
      "source": [
        "Decision Tree"
      ]
    },
    {
      "cell_type": "code",
      "metadata": {
        "id": "D9hFYAlF8MOO"
      },
      "source": [
        "decisiontree_model = DecisionTreeClassifier(max_depth=10) #max_depth=10\n",
        "\n",
        "decisiontree_model.fit(X_train, y_train)\n",
        "\n",
        "y_pred = decisiontree_model.predict(X_test)\n",
        "decisiontree_accuracy = metrics.accuracy_score(y_true=y_test, y_pred=y_pred)\n",
        "\n",
        "# accuracy\n",
        "#print(\"accuracy:\", metrics.accuracy_score(y_true=y_test, y_pred=y_pred), \"\\n\")\n",
        "\n",
        "# cm\n",
        "#print(metrics.confusion_matrix(y_true=y_test, y_pred=y_pred))"
      ],
      "execution_count": null,
      "outputs": []
    },
    {
      "cell_type": "markdown",
      "metadata": {
        "id": "3XMFB9z2grLV"
      },
      "source": [
        "Gaussian Naive Bayes"
      ]
    },
    {
      "cell_type": "code",
      "metadata": {
        "id": "BH8IYn2Vgtsq"
      },
      "source": [
        "gaussianNB_model = GaussianNB()\n",
        "gaussianNB_model.fit(X_train, y_train)\n",
        "\n",
        "y_pred = gaussianNB_model.predict(X_test)\n",
        "gaussianNB_model_accuracy = metrics.accuracy_score(y_true=y_test, y_pred=y_pred)\n",
        "\n",
        "#print(\"accuracy:\", metrics.accuracy_score(y_true=y_test, y_pred=y_pred), \"\\n\")\n",
        "\n",
        "#print(metrics.confusion_matrix(y_true=y_test, y_pred=y_pred))"
      ],
      "execution_count": null,
      "outputs": []
    },
    {
      "cell_type": "markdown",
      "metadata": {
        "id": "H0cjQzY1vZWm"
      },
      "source": [
        "Put the accuracy of all the models together\n",
        "\n"
      ]
    },
    {
      "cell_type": "code",
      "metadata": {
        "colab": {
          "base_uri": "https://localhost:8080/"
        },
        "id": "1nLfOLiRvdFF",
        "outputId": "1210da5d-1dda-4aef-ae7c-492f0e79cc96"
      },
      "source": [
        "print(\"-------- Accuracy of all the models ---------------\")\n",
        "print(\"MLP Model: \" + str(mlp_model_accuracy))\n",
        "print(\"CNN Model: \"+ str(cnn_model_accuracy))\n",
        "print(\"Random Forest Model:\" + str(randomforest_model_accuracy))\n",
        "print(\"Decision Tree Model:\" + str(decisiontree_accuracy))\n",
        "print(\"SVM Model:\" + str(svc_poly_model_accuracy))\n",
        "print(\"Gaussian NB Model:\" + str(gaussianNB_model_accuracy))"
      ],
      "execution_count": null,
      "outputs": [
        {
          "output_type": "stream",
          "text": [
            "-------- Accuracy of all the models ---------------\n",
            "MLP Model: 0.9757999777793884\n",
            "CNN Model: 0.9886999726295471\n",
            "Random Forest Model:0.9699\n",
            "Decision Tree Model:0.8654\n",
            "SVM Model:0.9771\n",
            "Gaussian NB Model:0.5558\n"
          ],
          "name": "stdout"
        }
      ]
    },
    {
      "cell_type": "code",
      "metadata": {
        "id": "4cafbJ7wYuqK"
      },
      "source": [
        "import pickle\n",
        "\n",
        "rf_file_name = \"digit_predcitor_model_rf.sav\"\n",
        "svc_file_name = \"digit_predictor_model_svc.sav\"\n",
        "dt_file_name = \"digit_predictor_model_dt.sav\"\n",
        "nb_file_name = \"digit_predictor_model_nb.sav\"\n",
        "\n",
        "pickle.dump(randomforest_model, open(rf_file_name, 'wb'))\n",
        "pickle.dump(svc_poly_model, open(svc_file_name, 'wb'))\n",
        "pickle.dump(decisiontree_model, open(dt_file_name, 'wb'))\n",
        "pickle.dump(gaussianNB_model, open(nb_file_name, 'wb'))\n",
        "\n"
      ],
      "execution_count": null,
      "outputs": []
    },
    {
      "cell_type": "markdown",
      "metadata": {
        "id": "ju651fD-huah"
      },
      "source": [
        "## Done with DL and ML. Its time to add Local Differential Privacy"
      ]
    },
    {
      "cell_type": "markdown",
      "metadata": {
        "id": "nc7lKo2xzU2y"
      },
      "source": [
        "# **Local Differential Privacy**"
      ]
    },
    {
      "cell_type": "code",
      "metadata": {
        "colab": {
          "base_uri": "https://localhost:8080/"
        },
        "id": "zndkQh1bEYbT",
        "outputId": "b6c0375a-ead4-4a74-c54f-018a3ee2ecaf"
      },
      "source": [
        "pip install diffPrivLib"
      ],
      "execution_count": null,
      "outputs": [
        {
          "output_type": "stream",
          "text": [
            "Requirement already satisfied: diffPrivLib in /usr/local/lib/python3.7/dist-packages (0.4.1)\n",
            "Requirement already satisfied: numpy>=1.17.0 in /usr/local/lib/python3.7/dist-packages (from diffPrivLib) (1.19.5)\n",
            "Requirement already satisfied: joblib>=0.11 in /usr/local/lib/python3.7/dist-packages (from diffPrivLib) (1.0.1)\n",
            "Requirement already satisfied: scipy>=1.2.1 in /usr/local/lib/python3.7/dist-packages (from diffPrivLib) (1.4.1)\n",
            "Requirement already satisfied: scikit-learn>=0.22.0 in /usr/local/lib/python3.7/dist-packages (from diffPrivLib) (0.22.2.post1)\n",
            "Requirement already satisfied: setuptools>=39.0.1 in /usr/local/lib/python3.7/dist-packages (from diffPrivLib) (56.0.0)\n"
          ],
          "name": "stdout"
        }
      ]
    },
    {
      "cell_type": "code",
      "metadata": {
        "id": "8HQeeotdBUfr"
      },
      "source": [
        "import tensorflow as tf\n",
        "import matplotlib.pyplot as plt\n",
        "\n",
        "#from keras.models import Sequential\n",
        "#from keras.layers import Dense\n",
        "#from keras.layers import Dropout\n",
        "#from keras.layers import Flatten\n",
        "#from keras.layers.convolutional import Conv2D\n",
        "#from keras.layers.convolutional import MaxPooling2D\n",
        "from keras.utils import np_utils\n",
        "\n",
        "from diffprivlib.mechanisms import Laplace\n",
        "import numpy as np"
      ],
      "execution_count": null,
      "outputs": []
    },
    {
      "cell_type": "code",
      "metadata": {
        "id": "zHA_hqT-0VkR"
      },
      "source": [
        "def to_binary(img, threshold):\n",
        "    temp_img = img > threshold\n",
        "\n",
        "    return temp_img*1"
      ],
      "execution_count": null,
      "outputs": []
    },
    {
      "cell_type": "code",
      "metadata": {
        "id": "R0DS3EMHBWoD"
      },
      "source": [
        "mnist = tf.keras.datasets.mnist\n",
        "(x_train, y_train), (x_test,y_test) = mnist.load_data()\n",
        "\n",
        "\n",
        "bin_x_train = np.array([to_binary(img, 100) for img in x_train])\n",
        "bin_x_test = np.array([to_binary(img, 100) for img in x_test])\n",
        "\n",
        "cp_x_test = bin_x_test.copy()\n"
      ],
      "execution_count": null,
      "outputs": []
    },
    {
      "cell_type": "code",
      "metadata": {
        "id": "lfN2fQufEx57"
      },
      "source": [
        "def RandomizePoint(width_fixed, org_point, laplace):\n",
        "    priv_x = int(np.ceil(laplace.randomise(org_point[0])))\n",
        "    priv_y = int(np.ceil(laplace.randomise(org_point[1])))\n",
        "            \n",
        "    if priv_x < 0: \n",
        "        priv_x= 0\n",
        "    elif priv_x >=width_fixed:\n",
        "         priv_x = width_fixed-1\n",
        "            \n",
        "    if priv_y < 0: \n",
        "        priv_y = 0\n",
        "    elif priv_y >=width_fixed:\n",
        "        priv_y = width_fixed-1\n",
        "            \n",
        "    return (priv_x, priv_y) "
      ],
      "execution_count": null,
      "outputs": []
    },
    {
      "cell_type": "code",
      "metadata": {
        "id": "meYzjQXmRqps"
      },
      "source": [
        "#https://stackoverflow.com/questions/25837544/get-all-points-of-a-straight-line-in-python\n",
        "def get_line(x1, y1, x2, y2):\n",
        "    points = []\n",
        "    issteep = abs(y2-y1) > abs(x2-x1)\n",
        "    if issteep:\n",
        "        x1, y1 = y1, x1\n",
        "        x2, y2 = y2, x2\n",
        "    rev = False\n",
        "    if x1 > x2:\n",
        "        x1, x2 = x2, x1\n",
        "        y1, y2 = y2, y1\n",
        "        rev = True\n",
        "    deltax = x2 - x1\n",
        "    deltay = abs(y2-y1)\n",
        "    error = int(deltax / 2)\n",
        "    y = y1\n",
        "    ystep = None\n",
        "    if y1 < y2:\n",
        "        ystep = 1\n",
        "    else:\n",
        "        ystep = -1\n",
        "    for x in range(x1, x2 + 1):\n",
        "        if issteep:\n",
        "            points.append((y, x))\n",
        "        else:\n",
        "            points.append((x, y))\n",
        "        error -= deltay\n",
        "        if error < 0:\n",
        "            y += ystep\n",
        "            error += deltax\n",
        "    # Reverse the list if the coordinates were reversed\n",
        "    if rev:\n",
        "        points.reverse()\n",
        "    return points"
      ],
      "execution_count": null,
      "outputs": []
    },
    {
      "cell_type": "code",
      "metadata": {
        "id": "1supSBYRNKY_"
      },
      "source": [
        "def generate_noisy_images(bin_x_test, eps):\n",
        "    diff_image = np.zeros(bin_x_test.shape)\n",
        "\n",
        "    laplace = Laplace(epsilon = eps, sensitivity=1)\n",
        "\n",
        "    for k in range(len(bin_x_test)):\n",
        "        prev_pos = None\n",
        "        for i in range(28):\n",
        "            for j in range(28):\n",
        "\n",
        "                if bin_x_test[k][i][j]==1:\n",
        "                    rand_pos =  RandomizePoint(28, (i,j), laplace)\n",
        "\n",
        "                    if prev_pos:\n",
        "                        points_line = get_line(prev_pos[0], prev_pos[1], rand_pos[0], rand_pos[1])\n",
        "\n",
        "                        for pos in points_line:\n",
        "                            diff_image[k][pos[0]][pos[1]] =  1\n",
        "\n",
        "                        prev_pos = rand_pos\n",
        "                    else:\n",
        "                        prev_pos = rand_pos\n",
        "    return diff_image\n",
        "                "
      ],
      "execution_count": null,
      "outputs": []
    },
    {
      "cell_type": "markdown",
      "metadata": {
        "id": "sNqanWwX4Rla"
      },
      "source": [
        "# **Time to put all the Models to the real test**\n",
        "\n",
        "\n"
      ]
    },
    {
      "cell_type": "code",
      "metadata": {
        "id": "rQQ7T6R4Sf7l"
      },
      "source": [
        "eps = .1\n",
        "diff_image = generate_noisy_images(bin_x_test, eps)"
      ],
      "execution_count": null,
      "outputs": []
    },
    {
      "cell_type": "code",
      "metadata": {
        "colab": {
          "base_uri": "https://localhost:8080/"
        },
        "id": "MTn5hlkWTASi",
        "outputId": "23f7f30c-94a3-41e5-847e-2d8e08adbd72"
      },
      "source": [
        "bin_x_test.shape"
      ],
      "execution_count": null,
      "outputs": [
        {
          "output_type": "execute_result",
          "data": {
            "text/plain": [
              "(10000, 28, 28)"
            ]
          },
          "metadata": {
            "tags": []
          },
          "execution_count": 40
        }
      ]
    },
    {
      "cell_type": "code",
      "metadata": {
        "colab": {
          "base_uri": "https://localhost:8080/"
        },
        "id": "vb9-DVxFS2Ts",
        "outputId": "b616e7ab-a294-436d-b6e0-aa3c3664811d"
      },
      "source": [
        "diff_image.shape"
      ],
      "execution_count": null,
      "outputs": [
        {
          "output_type": "execute_result",
          "data": {
            "text/plain": [
              "(10000, 28, 28)"
            ]
          },
          "metadata": {
            "tags": []
          },
          "execution_count": 36
        }
      ]
    },
    {
      "cell_type": "code",
      "metadata": {
        "colab": {
          "base_uri": "https://localhost:8080/"
        },
        "id": "P8H0LysITS3S",
        "outputId": "b7a0ae8e-1a75-483e-86cd-02aaa238697c"
      },
      "source": [
        "X_test[313][0][0]"
      ],
      "execution_count": null,
      "outputs": [
        {
          "output_type": "execute_result",
          "data": {
            "text/plain": [
              "array([0.], dtype=float32)"
            ]
          },
          "metadata": {
            "tags": []
          },
          "execution_count": 61
        }
      ]
    },
    {
      "cell_type": "code",
      "metadata": {
        "colab": {
          "base_uri": "https://localhost:8080/"
        },
        "id": "Om15_ZeVTW8K",
        "outputId": "fb8b0c3d-ae3b-4b75-caa5-93837d95e94b"
      },
      "source": [
        "diff_image_cnn = diff_image.reshape((diff_image.shape[0], 28, 28, 1)).astype('float32')\n",
        "\n",
        "diff_image_cnn.shape"
      ],
      "execution_count": null,
      "outputs": [
        {
          "output_type": "execute_result",
          "data": {
            "text/plain": [
              "(10000, 28, 28, 1)"
            ]
          },
          "metadata": {
            "tags": []
          },
          "execution_count": 51
        }
      ]
    },
    {
      "cell_type": "code",
      "metadata": {
        "id": "HXCqed6WU70r"
      },
      "source": [
        "diff_image_cnn = diff_image_cnn / 255"
      ],
      "execution_count": null,
      "outputs": []
    },
    {
      "cell_type": "code",
      "metadata": {
        "colab": {
          "base_uri": "https://localhost:8080/"
        },
        "id": "swgg-Q-AT5aC",
        "outputId": "ceeabcd5-4193-4b7c-acf7-acc7e4ec12b6"
      },
      "source": [
        "diff_image_cnn[0][0].shape"
      ],
      "execution_count": null,
      "outputs": [
        {
          "output_type": "execute_result",
          "data": {
            "text/plain": [
              "(28, 1)"
            ]
          },
          "metadata": {
            "tags": []
          },
          "execution_count": 55
        }
      ]
    },
    {
      "cell_type": "code",
      "metadata": {
        "colab": {
          "base_uri": "https://localhost:8080/"
        },
        "id": "8U3sB795VzkT",
        "outputId": "cb9e9e1a-69f6-4be9-e217-1497ee5db206"
      },
      "source": [
        "diff_image_cnn[313][0][0]"
      ],
      "execution_count": null,
      "outputs": [
        {
          "output_type": "execute_result",
          "data": {
            "text/plain": [
              "array([0.00392157], dtype=float32)"
            ]
          },
          "metadata": {
            "tags": []
          },
          "execution_count": 62
        }
      ]
    },
    {
      "cell_type": "code",
      "metadata": {
        "colab": {
          "base_uri": "https://localhost:8080/"
        },
        "id": "OqzVXTufVNry",
        "outputId": "f77f991d-d0c7-4588-85ef-d2c31c5f770b"
      },
      "source": [
        "cnn_model.summary()"
      ],
      "execution_count": null,
      "outputs": [
        {
          "output_type": "stream",
          "text": [
            "Model: \"sequential_1\"\n",
            "_________________________________________________________________\n",
            "Layer (type)                 Output Shape              Param #   \n",
            "=================================================================\n",
            "conv2d (Conv2D)              (None, 24, 24, 32)        832       \n",
            "_________________________________________________________________\n",
            "max_pooling2d (MaxPooling2D) (None, 12, 12, 32)        0         \n",
            "_________________________________________________________________\n",
            "dropout (Dropout)            (None, 12, 12, 32)        0         \n",
            "_________________________________________________________________\n",
            "flatten_1 (Flatten)          (None, 4608)              0         \n",
            "_________________________________________________________________\n",
            "dense_3 (Dense)              (None, 128)               589952    \n",
            "_________________________________________________________________\n",
            "dense_4 (Dense)              (None, 10)                1290      \n",
            "=================================================================\n",
            "Total params: 592,074\n",
            "Trainable params: 592,074\n",
            "Non-trainable params: 0\n",
            "_________________________________________________________________\n"
          ],
          "name": "stdout"
        }
      ]
    },
    {
      "cell_type": "code",
      "metadata": {
        "colab": {
          "base_uri": "https://localhost:8080/"
        },
        "id": "Xpvw2ZpES0Lq",
        "outputId": "a48b3aa0-d6a9-4291-d3a5-3a5d517448e5"
      },
      "source": [
        "cnn_y_test = np_utils.to_categorical(y_test)\n",
        "\n",
        "diff_image_cnn =diff_image.reshape((diff_image.shape[0], 28, 28, 1))\n",
        "val_loss, eps_cnn_model_accuracy = cnn_model.evaluate(diff_image_cnn, cnn_y_test)"
      ],
      "execution_count": null,
      "outputs": [
        {
          "output_type": "stream",
          "text": [
            "313/313 [==============================] - 2s 7ms/step - loss: 7.2160 - accuracy: 0.0878\n"
          ],
          "name": "stdout"
        }
      ]
    },
    {
      "cell_type": "code",
      "metadata": {
        "id": "wVHg55BkS6vK"
      },
      "source": [
        ""
      ],
      "execution_count": null,
      "outputs": []
    },
    {
      "cell_type": "code",
      "metadata": {
        "colab": {
          "base_uri": "https://localhost:8080/"
        },
        "id": "7mhdzuZgRkPq",
        "outputId": "541353f1-2922-42f1-807f-de3fc1ca1d7f"
      },
      "source": [
        "for eps in [1, 2, 3, 4, 5]:\n",
        "\n",
        "    diff_image = generate_noisy_images(bin_x_test, eps)\n",
        "    diff_image_cnn = diff_image.reshape((diff_image.shape[0], 28, 28, 1))\n",
        "\n",
        "    cnn_y_test = np_utils.to_categorical(y_test)\n",
        "    val_loss, eps_cnn_model_accuracy = cnn_model.evaluate(diff_image_cnn, cnn_y_test)\n",
        "\n",
        "\n",
        "    print(\"-------- Accuracy of all the models ---------------\")\n",
        "    print(\"Epsilon:\" + str(eps))\n",
        "    print(\"CNN Model: \"+ str(eps_cnn_model_accuracy))\n"
      ],
      "execution_count": null,
      "outputs": [
        {
          "output_type": "stream",
          "text": [
            "313/313 [==============================] - 2s 8ms/step - loss: 2.6921 - accuracy: 0.5137\n",
            "-------- Accuracy of all the models ---------------\n",
            "Epsilon:1\n",
            "CNN Model: 0.513700008392334\n",
            "313/313 [==============================] - 2s 7ms/step - loss: 1.1476 - accuracy: 0.7355\n",
            "-------- Accuracy of all the models ---------------\n",
            "Epsilon:2\n",
            "CNN Model: 0.7354999780654907\n",
            "313/313 [==============================] - 2s 7ms/step - loss: 0.9515 - accuracy: 0.7749\n",
            "-------- Accuracy of all the models ---------------\n",
            "Epsilon:3\n",
            "CNN Model: 0.7749000191688538\n",
            "313/313 [==============================] - 2s 8ms/step - loss: 0.8796 - accuracy: 0.7919\n",
            "-------- Accuracy of all the models ---------------\n",
            "Epsilon:4\n",
            "CNN Model: 0.7918999791145325\n",
            "313/313 [==============================] - 2s 7ms/step - loss: 0.8630 - accuracy: 0.7936\n",
            "-------- Accuracy of all the models ---------------\n",
            "Epsilon:5\n",
            "CNN Model: 0.7936000227928162\n"
          ],
          "name": "stdout"
        }
      ]
    },
    {
      "cell_type": "markdown",
      "metadata": {
        "id": "KnX_-OBh5blK"
      },
      "source": [
        "eps = 1"
      ]
    },
    {
      "cell_type": "code",
      "metadata": {
        "id": "qUYb3mc_4ZmP"
      },
      "source": [
        "for eps in [.1, .2, .3, .4, .5, .6, .7, .8, .9, 1, 2, 3, 4, 5,6, 7, 8, 9, 10]:\n",
        "\n",
        "    diff_image = generate_noisy_images(bin_x_test, eps)\n",
        "\n",
        "    diff_image_mlp = diff_image\n",
        "    diff_image_cnn = diff_image.reshape((diff_image.shape[0], 28, 28, 1))\n",
        "    diff_image_ml = diff_image.reshape(diff_image.shape[0], diff_image.shape[1]*diff_image.shape[1])\n",
        "\n",
        "    val_loss, eps_mlp_model_accuracy = mlp_model.evaluate(diff_image_mlp,y_test)\n",
        "\n",
        "    cnn_y_test = np_utils.to_categorical(y_test)\n",
        "    val_loss, eps_cnn_model_accuracy = cnn_model.evaluate(diff_image_cnn, cnn_y_test)\n",
        "\n",
        "    eps_y_pred = randomforest_model.predict(diff_image_ml)\n",
        "    eps_randomforest_model_accuracy = metrics.accuracy_score(y_true=y_test, y_pred=eps_y_pred)\n",
        "\n",
        "    eps_y_pred = svc_poly_model.predict(diff_image_ml)\n",
        "    eps_svc_poly_model_accuracy = metrics.accuracy_score(y_true=y_test, y_pred=eps_y_pred)\n",
        "\n",
        "    eps_y_pred = decisiontree_model.predict(diff_image_ml)\n",
        "    eps_decisiontree_accuracy = metrics.accuracy_score(y_true=y_test, y_pred=eps_y_pred)\n",
        "\n",
        "    eps_y_pred = gaussianNB_model.predict(diff_image_ml)\n",
        "    eps_gaussianNB_model_accuracy = metrics.accuracy_score(y_true=y_test, y_pred=eps_y_pred)\n",
        "\n",
        "\n",
        "    print(\"-------- Accuracy of all the models ---------------\")\n",
        "    print(\"Epsilon:\" + str(eps))\n",
        "    print(\"MLP Model: \" + str(eps_mlp_model_accuracy))\n",
        "    print(\"CNN Model: \"+ str(eps_cnn_model_accuracy))\n",
        "    print(\"Random Forest Model:\" + str(eps_randomforest_model_accuracy))\n",
        "    print(\"Decision Tree Model:\" + str(eps_decisiontree_accuracy))\n",
        "    print(\"SVM Model:\" + str(eps_svc_poly_model_accuracy))\n",
        "    print(\"Gaussian NB Model:\" + str(eps_gaussianNB_model_accuracy))"
      ],
      "execution_count": null,
      "outputs": []
    },
    {
      "cell_type": "markdown",
      "metadata": {
        "id": "POFObrhssx68"
      },
      "source": [
        "MLP vs CNN"
      ]
    },
    {
      "cell_type": "code",
      "metadata": {
        "id": "IkffeVz1szRs"
      },
      "source": [
        ""
      ],
      "execution_count": null,
      "outputs": []
    },
    {
      "cell_type": "code",
      "metadata": {
        "id": "3kAWsTfqssCk"
      },
      "source": [
        "for eps in [.1, .2, .3, .4, .5, .6, .7, .8, .9, 1, 2, 3, 4, 5,6, 7, 8, 9, 10]:\n",
        "\n",
        "    diff_image = generate_noisy_images(bin_x_test, eps)\n",
        "\n",
        "    diff_image_mlp = diff_image\n",
        "    diff_image_cnn = diff_image.reshape((diff_image.shape[0], 28, 28, 1))\n",
        "    diff_image_ml = diff_image.reshape(diff_image.shape[0], diff_image.shape[1]*diff_image.shape[1])\n",
        "\n",
        "    val_loss, eps_mlp_model_accuracy = mlp_model.evaluate(diff_image_mlp,y_test)\n",
        "\n",
        "    cnn_y_test = np_utils.to_categorical(y_test)\n",
        "    val_loss, eps_cnn_model_accuracy = cnn_model.evaluate(diff_image_cnn, cnn_y_test)\n",
        "\n",
        "\n",
        "\n",
        "    print(\"-------- Accuracy of all the models ---------------\")\n",
        "    print(\"Epsilon:\" + str(eps))\n",
        "    print(\"MLP Model: \" + str(eps_mlp_model_accuracy))\n",
        "    print(\"CNN Model: \"+ str(eps_cnn_model_accuracy))"
      ],
      "execution_count": null,
      "outputs": []
    }
  ]
}